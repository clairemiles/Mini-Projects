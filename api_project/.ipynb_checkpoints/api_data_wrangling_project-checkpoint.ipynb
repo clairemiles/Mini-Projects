{
 "cells": [
  {
   "cell_type": "markdown",
   "metadata": {},
   "source": [
    "This exercise will require you to pull some data from the Qunadl API. Qaundl is currently the most widely used aggregator of financial market data."
   ]
  },
  {
   "cell_type": "markdown",
   "metadata": {},
   "source": [
    "As a first step, you will need to register a free account on the http://www.quandl.com website."
   ]
  },
  {
   "cell_type": "markdown",
   "metadata": {},
   "source": [
    "After you register, you will be provided with a unique API key, that you should store:"
   ]
  },
  {
   "cell_type": "code",
   "execution_count": 1,
   "metadata": {},
   "outputs": [],
   "source": [
    "# Store the API key as a string - according to PEP8, constants are always named in all upper case\n",
    "API_KEY = ''"
   ]
  },
  {
   "cell_type": "markdown",
   "metadata": {},
   "source": [
    "Quandl has a large number of data sources, but, unfortunately, most of them require a Premium subscription. Still, there are also a good number of free datasets."
   ]
  },
  {
   "cell_type": "markdown",
   "metadata": {},
   "source": [
    "For this mini project, we will focus on equities data from the Frankfurt Stock Exhange (FSE), which is available for free. We'll try and analyze the stock prices of a company called Carl Zeiss Meditec, which manufactures tools for eye examinations, as well as medical lasers for laser eye surgery: https://www.zeiss.com/meditec/int/home.html. The company is listed under the stock ticker AFX_X."
   ]
  },
  {
   "cell_type": "markdown",
   "metadata": {},
   "source": [
    "You can find the detailed Quandl API instructions here: https://docs.quandl.com/docs/time-series"
   ]
  },
  {
   "cell_type": "markdown",
   "metadata": {},
   "source": [
    "While there is a dedicated Python package for connecting to the Quandl API, we would prefer that you use the *requests* package, which can be easily downloaded using *pip* or *conda*. You can find the documentation for the package here: http://docs.python-requests.org/en/master/ "
   ]
  },
  {
   "cell_type": "markdown",
   "metadata": {},
   "source": [
    "Finally, apart from the *requests* package, you are encouraged to not use any third party Python packages, such as *pandas*, and instead focus on what's available in the Python Standard Library (the *collections* module might come in handy: https://pymotw.com/3/collections/).\n",
    "Also, since you won't have access to DataFrames, you are encouraged to us Python's native data structures - preferably dictionaries, though some questions can also be answered using lists.\n",
    "You can read more on these data structures here: https://docs.python.org/3/tutorial/datastructures.html"
   ]
  },
  {
   "cell_type": "markdown",
   "metadata": {},
   "source": [
    "Keep in mind that the JSON responses you will be getting from the API map almost one-to-one to Python's dictionaries. Unfortunately, they can be very nested, so make sure you read up on indexing dictionaries in the documentation provided above."
   ]
  },
  {
   "cell_type": "code",
   "execution_count": 2,
   "metadata": {},
   "outputs": [],
   "source": [
    "# First, import the relevant modules\n",
    "import collections\n",
    "import requests"
   ]
  },
  {
   "cell_type": "code",
   "execution_count": 3,
   "metadata": {},
   "outputs": [
    {
     "name": "stdout",
     "output_type": "stream",
     "text": [
      "['2019-02-20', None, 77.9, 76.45, 77.1, None, 109679.0, 8451729.0, None, None, None]\n"
     ]
    }
   ],
   "source": [
    "# Now, call the Quandl API and pull out a small sample of the data (only one day) to get a glimpse\n",
    "# into the JSON structure that will be returned\n",
    "\n",
    "# request from the FSE AFX_X dataset\n",
    "url = \"https://www.quandl.com/api/v3/datasets/FSE/AFX_X.json?api_key=[redacted]\"\n",
    "r = requests.get(url)\n",
    "# extract the dataset for AFX_X\n",
    "dataset = r.json()['dataset']\n",
    "# extract the first item from the 'data' key, which is a list of daily-added lists\n",
    "# index 0 will return one day of data\n",
    "dec_28 = r.json()['dataset']['data'][0]\n",
    "print(dec_28)"
   ]
  },
  {
   "cell_type": "code",
   "execution_count": 4,
   "metadata": {},
   "outputs": [],
   "source": [
    "# Inspect the JSON structure of the object you created, and take note of how nested it is,\n",
    "# as well as the overall structure\n",
    "\n",
    "# extract the dataset for AFX_X using the 'dataset' key\n",
    "dataset = r.json()['dataset']\n",
    "# 'column_names' and 'data' keys have data that match up to create the timeseries"
   ]
  },
  {
   "cell_type": "markdown",
   "metadata": {},
   "source": [
    "These are your tasks for this mini project:\n",
    "\n",
    "1. Collect data from the Franfurt Stock Exchange, for the ticker AFX_X, for the whole year 2017 (keep in mind that the date format is YYYY-MM-DD).\n",
    "2. Convert the returned JSON object into a Python dictionary.\n",
    "3. Calculate what the highest and lowest opening prices were for the stock in this period.\n",
    "4. What was the largest change in any one day (based on High and Low price)?\n",
    "5. What was the largest change between any two days (based on Closing Price)?\n",
    "6. What was the average daily trading volume during this year?\n",
    "7. (Optional) What was the median trading volume during this year. (Note: you may need to implement your own function for calculating the median.)"
   ]
  },
  {
   "cell_type": "markdown",
   "metadata": {},
   "source": [
    "#### Collect data from the Franfurt Stock Exchange, for the ticker AFX_X, for the whole year 2017."
   ]
  },
  {
   "cell_type": "code",
   "execution_count": 5,
   "metadata": {},
   "outputs": [],
   "source": [
    "# establish the column names for the AFX_X data based on the column names provided\n",
    "cols = ['date',\n",
    " 'open',\n",
    " 'high',\n",
    " 'low',\n",
    " 'close',\n",
    " 'change',\n",
    " 'volume',\n",
    " 'turnover',\n",
    " 'last_price',\n",
    " 'traded_units',\n",
    " 'daily_turnover']"
   ]
  },
  {
   "cell_type": "code",
   "execution_count": 6,
   "metadata": {},
   "outputs": [],
   "source": [
    "# get the AFX_X data for 2017 using list comprehension\n",
    "data_all = dataset['data']\n",
    "data_2017 = [i for i in data_all if i[0][:4] == '2017']"
   ]
  },
  {
   "cell_type": "markdown",
   "metadata": {},
   "source": [
    "#### Convert the returned JSON object into a Python dictionary."
   ]
  },
  {
   "cell_type": "code",
   "execution_count": 7,
   "metadata": {},
   "outputs": [],
   "source": [
    "# create a namedtuple for the stock variables in each day\n",
    "from collections import namedtuple\n",
    "StockDay = namedtuple('StockDay', cols[1:])"
   ]
  },
  {
   "cell_type": "code",
   "execution_count": 8,
   "metadata": {},
   "outputs": [],
   "source": [
    "# create dictionary with stock variables by date\n",
    "afx = {}\n",
    "# key = date\n",
    "# value = namedtuple with variables\n",
    "# for each list in data_2017\n",
    "for day in data_2017:\n",
    "# create an instance of the namedtuple\n",
    "    stock_tuple = StockDay._make(day[1:])\n",
    "# map the namedtuple to corresponding date\n",
    "    afx[day[0]] = stock_tuple"
   ]
  },
  {
   "cell_type": "markdown",
   "metadata": {},
   "source": [
    "#### Calculate what the highest and lowest opening prices were for the stock in this period."
   ]
  },
  {
   "cell_type": "code",
   "execution_count": 9,
   "metadata": {},
   "outputs": [
    {
     "name": "stdout",
     "output_type": "stream",
     "text": [
      "Highest opening price: $ 53.11\n",
      "Lowest opening price: $ 34.0\n"
     ]
    }
   ],
   "source": [
    "# get the 'open' values for each day and compare to most recent min and max values\n",
    "max_val = -1000\n",
    "min_val = 1000000000\n",
    "for value in afx.values():\n",
    "    opening_price = value.open\n",
    "    if opening_price is not None and opening_price > max_val:\n",
    "        max_val = opening_price\n",
    "    if opening_price is not None and opening_price < min_val:\n",
    "        min_val = opening_price\n",
    "print('Highest opening price: $', max_val)\n",
    "print('Lowest opening price: $', min_val)"
   ]
  },
  {
   "cell_type": "markdown",
   "metadata": {},
   "source": [
    "#### What was the largest change in any one day (based on High and Low price)?"
   ]
  },
  {
   "cell_type": "code",
   "execution_count": 10,
   "metadata": {},
   "outputs": [
    {
     "name": "stdout",
     "output_type": "stream",
     "text": [
      "Largest change: $ 2.8100000000000023 on 2017-01-02\n"
     ]
    }
   ],
   "source": [
    "# loop through high and low values for each day, calculate the absolute value of the difference, and store\n",
    "# the largest difference\n",
    "largest_change = -1000\n",
    "change_date = ''\n",
    "for date, values in afx.items():\n",
    "    change = abs(values.high - values.low)\n",
    "    if change > largest_change:\n",
    "        largest_change = change\n",
    "        change_date = date\n",
    "print('Largest change: $', largest_change,'on', date)"
   ]
  },
  {
   "cell_type": "markdown",
   "metadata": {},
   "source": [
    "#### What was the largest change between any two days (based on Closing Price)?"
   ]
  },
  {
   "cell_type": "code",
   "execution_count": 11,
   "metadata": {},
   "outputs": [
    {
     "name": "stdout",
     "output_type": "stream",
     "text": [
      "Largest change in closing price: $ 2.559999999999995 between 2017-08-08 and 2017-08-09\n"
     ]
    }
   ],
   "source": [
    "# loop through day i and i+1 to calculate the absolute value of the difference in closing price\n",
    "# store the largest difference\n",
    "largest_change = -1000\n",
    "largest_day_1 = ''\n",
    "largest_day_2 = ''\n",
    "# get list of dates in order:\n",
    "dates_in_order = [day[0] for day in data_2017]\n",
    "dates_in_order.reverse()\n",
    "\n",
    "for i in range(len(dates_in_order)-1):\n",
    "    day_1 = dates_in_order[i]\n",
    "    day_2 = dates_in_order[i+1]\n",
    "    change = abs(afx[day_1].close - afx[day_2].close)\n",
    "    if change > largest_change:\n",
    "        largest_change = change\n",
    "        largest_day_1 = day_1\n",
    "        largest_day_2 = day_2\n",
    "        \n",
    "print('Largest change in closing price: $', largest_change, 'between', largest_day_1, 'and', largest_day_2)"
   ]
  },
  {
   "cell_type": "markdown",
   "metadata": {},
   "source": [
    "#### What was the average daily trading volume during this year?"
   ]
  },
  {
   "cell_type": "code",
   "execution_count": 12,
   "metadata": {},
   "outputs": [
    {
     "name": "stdout",
     "output_type": "stream",
     "text": [
      "Average daily trading volume: 89124.33725490196\n"
     ]
    }
   ],
   "source": [
    "volumes = []\n",
    "for value in afx.values():\n",
    "    volumes.append(value.volume)\n",
    "average_volume = sum(volumes)/len(volumes)\n",
    "print('Average daily trading volume:', average_volume)"
   ]
  },
  {
   "cell_type": "markdown",
   "metadata": {},
   "source": [
    "#### (Optional) What was the median trading volume during this year."
   ]
  },
  {
   "cell_type": "code",
   "execution_count": 13,
   "metadata": {},
   "outputs": [],
   "source": [
    "# define function to find the median of a list\n",
    "def find_median(ls):\n",
    "    \"\"\"calculates the median of a list of integers or floats by sorting the list\n",
    "    and finding the appropriate value in the middle of the list (or the average\n",
    "    of the middle values if the length of the list is even)\"\"\"\n",
    "    ls.sort()\n",
    "    length = len(ls)\n",
    "    median_index = int(length/2)\n",
    "    # if length of list is odd\n",
    "    if length%2 != 0:\n",
    "        median = ls[median_index + 1]\n",
    "    # if length of list is even\n",
    "    else:\n",
    "        median = (ls[median_index] + ls[median_index + 1])/2\n",
    "    return median"
   ]
  },
  {
   "cell_type": "code",
   "execution_count": 14,
   "metadata": {},
   "outputs": [
    {
     "name": "stdout",
     "output_type": "stream",
     "text": [
      "Median trading volume: 76600.0\n"
     ]
    }
   ],
   "source": [
    "# put list of volumes in median function\n",
    "median_volume = find_median(volumes)\n",
    "print('Median trading volume:', median_volume)"
   ]
  }
 ],
 "metadata": {
  "kernelspec": {
   "display_name": "Python 3",
   "language": "python",
   "name": "python3"
  },
  "language_info": {
   "codemirror_mode": {
    "name": "ipython",
    "version": 3
   },
   "file_extension": ".py",
   "mimetype": "text/x-python",
   "name": "python",
   "nbconvert_exporter": "python",
   "pygments_lexer": "ipython3",
   "version": "3.7.2"
  }
 },
 "nbformat": 4,
 "nbformat_minor": 2
}
