{
 "cells": [
  {
   "cell_type": "markdown",
   "metadata": {},
   "source": [
    "# What is the True Normal Human Body Temperature? \n",
    "\n",
    "### Background\n",
    "\n",
    "The mean normal body temperature was held to be 37$^{\\circ}$C or 98.6$^{\\circ}$F for more than 120 years since it was first conceptualized and reported by Carl Wunderlich in a famous 1868 book. But, is this value statistically correct?"
   ]
  },
  {
   "cell_type": "markdown",
   "metadata": {},
   "source": [
    "In this exercise, I will analyze a dataset of human body temperatures and employ the concepts of hypothesis testing, confidence intervals, and statistical significance."
   ]
  },
  {
   "cell_type": "code",
   "execution_count": 1,
   "metadata": {},
   "outputs": [],
   "source": [
    "# import packages\n",
    "import pandas as pd\n",
    "import numpy as np\n",
    "import matplotlib.pyplot as plt\n",
    "import seaborn as sns\n",
    "import scipy.stats as st\n",
    "from numpy.random import seed\n",
    "from numpy.random import randn\n",
    "from statsmodels.graphics.gofplots import qqplot\n",
    "\n",
    "sns.set()\n",
    "% matplotlib inline"
   ]
  },
  {
   "cell_type": "code",
   "execution_count": 2,
   "metadata": {},
   "outputs": [],
   "source": [
    "# import dataset\n",
    "df = pd.read_csv('data/human_body_temperature.csv')"
   ]
  },
  {
   "cell_type": "code",
   "execution_count": 3,
   "metadata": {},
   "outputs": [
    {
     "data": {
      "text/html": [
       "<div>\n",
       "<style scoped>\n",
       "    .dataframe tbody tr th:only-of-type {\n",
       "        vertical-align: middle;\n",
       "    }\n",
       "\n",
       "    .dataframe tbody tr th {\n",
       "        vertical-align: top;\n",
       "    }\n",
       "\n",
       "    .dataframe thead th {\n",
       "        text-align: right;\n",
       "    }\n",
       "</style>\n",
       "<table border=\"1\" class=\"dataframe\">\n",
       "  <thead>\n",
       "    <tr style=\"text-align: right;\">\n",
       "      <th></th>\n",
       "      <th>temperature</th>\n",
       "      <th>gender</th>\n",
       "      <th>heart_rate</th>\n",
       "    </tr>\n",
       "  </thead>\n",
       "  <tbody>\n",
       "    <tr>\n",
       "      <th>0</th>\n",
       "      <td>99.3</td>\n",
       "      <td>F</td>\n",
       "      <td>68.0</td>\n",
       "    </tr>\n",
       "    <tr>\n",
       "      <th>1</th>\n",
       "      <td>98.4</td>\n",
       "      <td>F</td>\n",
       "      <td>81.0</td>\n",
       "    </tr>\n",
       "    <tr>\n",
       "      <th>2</th>\n",
       "      <td>97.8</td>\n",
       "      <td>M</td>\n",
       "      <td>73.0</td>\n",
       "    </tr>\n",
       "    <tr>\n",
       "      <th>3</th>\n",
       "      <td>99.2</td>\n",
       "      <td>F</td>\n",
       "      <td>66.0</td>\n",
       "    </tr>\n",
       "    <tr>\n",
       "      <th>4</th>\n",
       "      <td>98.0</td>\n",
       "      <td>F</td>\n",
       "      <td>73.0</td>\n",
       "    </tr>\n",
       "  </tbody>\n",
       "</table>\n",
       "</div>"
      ],
      "text/plain": [
       "   temperature gender  heart_rate\n",
       "0         99.3      F        68.0\n",
       "1         98.4      F        81.0\n",
       "2         97.8      M        73.0\n",
       "3         99.2      F        66.0\n",
       "4         98.0      F        73.0"
      ]
     },
     "execution_count": 3,
     "metadata": {},
     "output_type": "execute_result"
    }
   ],
   "source": [
    "df.head()"
   ]
  },
  {
   "cell_type": "code",
   "execution_count": 4,
   "metadata": {},
   "outputs": [
    {
     "name": "stdout",
     "output_type": "stream",
     "text": [
      "<class 'pandas.core.frame.DataFrame'>\n",
      "RangeIndex: 130 entries, 0 to 129\n",
      "Data columns (total 3 columns):\n",
      "temperature    130 non-null float64\n",
      "gender         130 non-null object\n",
      "heart_rate     130 non-null float64\n",
      "dtypes: float64(2), object(1)\n",
      "memory usage: 3.1+ KB\n"
     ]
    }
   ],
   "source": [
    "df.info()"
   ]
  },
  {
   "cell_type": "markdown",
   "metadata": {
    "collapsed": true
   },
   "source": [
    "## Q1. Is the distribution of body temperatures normal?"
   ]
  },
  {
   "cell_type": "code",
   "execution_count": 5,
   "metadata": {},
   "outputs": [
    {
     "data": {
      "text/plain": [
       "count    130.000000\n",
       "mean      98.249231\n",
       "std        0.733183\n",
       "min       96.300000\n",
       "25%       97.800000\n",
       "50%       98.300000\n",
       "75%       98.700000\n",
       "max      100.800000\n",
       "Name: temperature, dtype: float64"
      ]
     },
     "execution_count": 5,
     "metadata": {},
     "output_type": "execute_result"
    }
   ],
   "source": [
    "df.temperature.describe()"
   ]
  },
  {
   "cell_type": "markdown",
   "metadata": {},
   "source": [
    "The sample mean is 98.2 degrees Fahrenheit - since this is very close to the population mean, we have reason to believe that temperature is normally distributed. However, we should look into this more. We can begin to see if body temperature is normally distributed by plotting a histogram of the temperatures:"
   ]
  },
  {
   "cell_type": "code",
   "execution_count": 6,
   "metadata": {},
   "outputs": [
    {
     "data": {
      "text/plain": [
       "<matplotlib.axes._subplots.AxesSubplot at 0x10a029c50>"
      ]
     },
     "execution_count": 6,
     "metadata": {},
     "output_type": "execute_result"
    },
    {
     "data": {
      "image/png": "[encoded data removed]",
      "text/plain": [
       "<Figure size 432x288 with 1 Axes>"
      ]
     },
     "metadata": {
      "needs_background": "light"
     },
     "output_type": "display_data"
    }
   ],
   "source": [
    "df.temperature.plot(kind='hist')"
   ]
  },
  {
   "cell_type": "markdown",
   "metadata": {},
   "source": [
    "The histogram appears roughly bell-shaped, but the right half of the plot drops to a level low enough to explore this question further.\n",
    "\n",
    "We can also graphically test for normality with a Quantile-Quantile plot, which will plot a standardized version of the sample data on the y-axis against its corresponding point in the normal distribution on the x-axis. If the sample data is normally distributed, the plot will look like a straight line at a 45 degree angle, signifying a strong positive correlation. Any deviation from this line indicates signs of a non-normal distribution. (Information sourced from [Wikipedia](https://en.wikipedia.org/wiki/Normality_test) and [Machine Learning Mastery](https://machinelearningmastery.com/a-gentle-introduction-to-normality-tests-in-python/))."
   ]
  },
  {
   "cell_type": "code",
   "execution_count": 7,
   "metadata": {},
   "outputs": [
    {
     "data": {
      "image/png": "[encoded data removed]",
      "text/plain": [
       "<Figure size 432x288 with 1 Axes>"
      ]
     },
     "execution_count": 7,
     "metadata": {},
     "output_type": "execute_result"
    },
    {
     "data": {
      "image/png": "[encoded data removed]",
      "text/plain": [
       "<Figure size 432x288 with 1 Axes>"
      ]
     },
     "metadata": {
      "needs_background": "light"
     },
     "output_type": "display_data"
    }
   ],
   "source": [
    "# q-q plot\n",
    "qqplot(df.temperature, line='s')"
   ]
  },
  {
   "cell_type": "markdown",
   "metadata": {},
   "source": [
    "The plot of the samples aligns with the normal distribution remarkably well until we get to the tails of the distribution, which stray a bit. However, since this sample is relatively small at 130 data points (compared to the entire human population of over 7 billion), I will say that this distribution is normal, and that the normal distribution would become more apparent as the sample size increased."
   ]
  },
  {
   "cell_type": "markdown",
   "metadata": {},
   "source": [
    "However, let's do one more check. Another way to test for a normal distribution is by calculating the z-scores of the sample maximum and minimum. According to the Wikipedia article for normality tests:\n",
    ">...if one has a 3σ event (properly, a 3s event) and substantially fewer than 300 samples, or a 4s event and substantially fewer than 15,000 samples, then a normal distribution will understate the maximum magnitude of deviations in the sample data."
   ]
  },
  {
   "cell_type": "code",
   "execution_count": 8,
   "metadata": {},
   "outputs": [
    {
     "name": "stdout",
     "output_type": "stream",
     "text": [
      "Min z-score: -2.6688711006174164\n",
      "Max z-score: 3.4924927267747687\n"
     ]
    }
   ],
   "source": [
    "z = st.zscore(df.temperature.sort_values())\n",
    "print('Min z-score:',z.min())\n",
    "print('Max z-score:', z.max())"
   ]
  },
  {
   "cell_type": "markdown",
   "metadata": {},
   "source": [
    "The z-score for the maximum is above 3, which would lead us to believe that the normal distribution may not be the best distribution to describe the data. From our previous graphical analysis, however, we know that the tails of the distribution stray much more from the normal distribution than the rest of the data. Therefore, it's reasonable to believe that this single z-score can't justify ruling out a normal distribution to describe temperature data."
   ]
  },
  {
   "cell_type": "markdown",
   "metadata": {},
   "source": [
    "## Q2. Is the sample size large? Are the observations independent?\n",
    "\n",
    "Remember that this is a condition for the Central Limit Theorem, and hence the statistical tests we are using, to apply."
   ]
  },
  {
   "cell_type": "markdown",
   "metadata": {},
   "source": [
    "Since we do not know whether this same was taken with replacement, another way we can test for an independent distribution is by using the 10% rule. The 10% rule states that if a sample size is less than 10% if the size of the total population, than the observations in the sample can be assumed to be independent.\n",
    "\n",
    "Our sample size is 130, as we saw when running the **describe** function on the temperature data. Therefore, we can assume that the observations are independent."
   ]
  },
  {
   "cell_type": "markdown",
   "metadata": {},
   "source": [
    "## Q3. Is the true population mean really 98.6 degrees F?\n",
    "   \n",
    "- First, try a bootstrap hypothesis test.\n",
    "- Now, let's try frequentist statistical testing. Would you use a one-sample or two-sample test? Why?\n",
    "- In this situation, is it appropriate to use the $t$ or $z$ statistic? \n",
    "- Now try using the other test. How is the result different? Why?\n"
   ]
  },
  {
   "cell_type": "markdown",
   "metadata": {},
   "source": [
    "Hypotheses:\n",
    "\n",
    "If X = body temperature of the human population,\n",
    "\n",
    "H<sub>0</sub>: $u$<sub>X</sub> = 98.6  \n",
    "H<sub>a</sub>: $u$<sub>X</sub> $\\neq$$ 98.6"
   ]
  },
  {
   "cell_type": "markdown",
   "metadata": {},
   "source": [
    "### Bootstrap Approacch"
   ]
  },
  {
   "cell_type": "code",
   "execution_count": 9,
   "metadata": {},
   "outputs": [
    {
     "data": {
      "text/plain": [
       "0.0"
      ]
     },
     "execution_count": 9,
     "metadata": {},
     "output_type": "execute_result"
    }
   ],
   "source": [
    "mu = 98.6\n",
    "bs = np.empty(10000)\n",
    "for i in range(10000):\n",
    "    replicates = np.random.choice(df.temperature, size=len(df.temperature))\n",
    "    bs[i] = np.mean(replicates)\n",
    "    \n",
    "p_value = np.sum(bs >= mu) / 10000\n",
    "float(p_value)"
   ]
  },
  {
   "cell_type": "markdown",
   "metadata": {},
   "source": [
    "The p-value for this test was 0.0, meaning that none of the bootstrapped means were more extreme than 98.6. With this p-value, we reject H<sub>0</sub>, suggesting that the true population mean for human temperature is not 98.6 degrees F."
   ]
  },
  {
   "cell_type": "markdown",
   "metadata": {},
   "source": [
    "### Frequentist Approach:\n",
    "#### T-test:\n",
    "We will use a two-tailed test because we are seeing if the sample mean may actually be less OR greater than the population mean. We have previously found that the sample distribution is relatively normal and independent, and we will assume that the sample was collected randomly. Again, we will use $\\alpha$ = 0.05\n",
    "\n",
    "##### One-sample or two-sample?\n",
    "We are comparing a single sample population to the population mean, so we will choose to do a one-sample test. If we wanted to compare measurements between two different populations, we would do a two-sample test.\n",
    "\n",
    "##### Why a t-test instead of a z-test?\n",
    "We do not know the population standard deviation for this population. In this case, the t-test is a better fit. However, since we have seen that our sample is relatively normally distributed, our sample size is well over 30, and the t distribution approaches the normal distribution as the degrees of freedom approach infinity, a z-test will likely produce similar results to the t-test."
   ]
  },
  {
   "cell_type": "code",
   "execution_count": 11,
   "metadata": {},
   "outputs": [
    {
     "name": "stdout",
     "output_type": "stream",
     "text": [
      "t-statistic: -5.4548232923645195\n",
      "p-value: 2.4106320415561276e-07\n",
      "Reject null hypothesis\n"
     ]
    }
   ],
   "source": [
    "# t test from scipy package\n",
    "mu = 98.6\n",
    "alpha = 0.05\n",
    "ttest = st.ttest_1samp(df.temperature, mu)\n",
    "print('t-statistic:', ttest[0])\n",
    "print('p-value:', ttest[1])\n",
    "if ttest[1] < alpha:\n",
    "    print('Reject null hypothesis')\n",
    "else:\n",
    "    print('Fail to reject null hypothesis')"
   ]
  },
  {
   "cell_type": "markdown",
   "metadata": {},
   "source": [
    "The t-statistic for this test is -5.45, and the p-value is 2.47\\*10<sup>-7</sup>. Since the p-value is less than our $\\alpha$ of 0.05, we reject the null hypothesis and have evidence for the population mean being a value different than 98.6 degrees F."
   ]
  },
  {
   "cell_type": "markdown",
   "metadata": {},
   "source": [
    "#### One-sample z-test:\n",
    "We will conduct a one-sample z-test with the same $\\alpha$ previously used. Since we don't know the population standard deviation $\\sigma$<sub>X</sub>, we will use the sample standard deviation $s$."
   ]
  },
  {
   "cell_type": "code",
   "execution_count": 12,
   "metadata": {},
   "outputs": [
    {
     "name": "stdout",
     "output_type": "stream",
     "text": [
      "z-statistic: 5.475925202078116\n",
      "p-value: 4.352315174926957e-08\n",
      "Reject null hypothesis\n"
     ]
    }
   ],
   "source": [
    "mu = 98.6\n",
    "x = np.mean(df.temperature)\n",
    "s = np.std(df.temperature)\n",
    "n = len(df.temperature)\n",
    "alpha = 0.05\n",
    "\n",
    "z = (x - mu)/(s/np.sqrt(n))\n",
    "\n",
    "# make z-statistic negative in order to use norm.cdf()\n",
    "if z < 0:\n",
    "    z *= -1\n",
    "    \n",
    "#calculate p-value  \n",
    "p_value = 2 * (1 - st.norm.cdf(z))\n",
    "\n",
    "print('z-statistic:', z)\n",
    "print('p-value:', p_value)\n",
    "\n",
    "if p_value < alpha:\n",
    "    print('Reject null hypothesis')\n",
    "else:\n",
    "    print('Fail to reject null hypothesis')"
   ]
  },
  {
   "cell_type": "markdown",
   "metadata": {},
   "source": [
    "The z-test produces very a very similar zistatistic to the t-statistic, and in both cases the H<sub>0</sub> is rejected. The only difference is that the p-value for the z-test is smaller than that for the t-test. This gives us some evidence that the z-test provides a decent stand-in for the t-test when the sample population size is large and the sample has a relatively normal distribution."
   ]
  },
  {
   "cell_type": "markdown",
   "metadata": {},
   "source": [
    "## Q4. Draw a small sample of size 10 from the data and repeat both frequentist tests. "
   ]
  },
  {
   "cell_type": "code",
   "execution_count": 13,
   "metadata": {},
   "outputs": [],
   "source": [
    "# generate random sample without replacement\n",
    "sample = np.random.choice(df.temperature, size=10, replace=False)"
   ]
  },
  {
   "cell_type": "markdown",
   "metadata": {},
   "source": [
    "#### One-sample t-test"
   ]
  },
  {
   "cell_type": "code",
   "execution_count": 14,
   "metadata": {},
   "outputs": [
    {
     "name": "stdout",
     "output_type": "stream",
     "text": [
      "t-statistic: -2.119481313874024\n",
      "p-value: 0.0630907258498864\n",
      "Fail to reject null hypothesis\n"
     ]
    }
   ],
   "source": [
    "mu = 98.6\n",
    "alpha = 0.05\n",
    "ttest = st.ttest_1samp(sample, mu)\n",
    "print('t-statistic:', ttest[0])\n",
    "print('p-value:', ttest[1])\n",
    "if ttest[1] < alpha:\n",
    "    print('Reject null hypothesis')\n",
    "else:\n",
    "    print('Fail to reject null hypothesis')"
   ]
  },
  {
   "cell_type": "markdown",
   "metadata": {},
   "source": [
    "#### One-sample z-test"
   ]
  },
  {
   "cell_type": "code",
   "execution_count": 15,
   "metadata": {},
   "outputs": [
    {
     "name": "stdout",
     "output_type": "stream",
     "text": [
      "z-statistic: 2.2341294700027174\n",
      "p-value: 0.025474555455563763\n",
      "Reject null hypothesis\n"
     ]
    }
   ],
   "source": [
    "mu = 98.6\n",
    "x = np.mean(sample)\n",
    "s = np.std(sample)\n",
    "n = len(sample)\n",
    "alpha = 0.05\n",
    "\n",
    "z = (x - mu)/(s/np.sqrt(n))\n",
    "\n",
    "# make z-statistic negative in order to use norm.cdf()\n",
    "if z < 0:\n",
    "    z *= -1\n",
    "    \n",
    "#calculate p-value  \n",
    "p_value = 2 * (1 - st.norm.cdf(z))\n",
    "\n",
    "print('z-statistic:', z)\n",
    "print('p-value:', p_value)\n",
    "\n",
    "if p_value < alpha:\n",
    "    print('Reject null hypothesis')\n",
    "else:\n",
    "    print('Fail to reject null hypothesis')"
   ]
  },
  {
   "cell_type": "markdown",
   "metadata": {},
   "source": [
    "####  Which one is the correct one to use? "
   ]
  },
  {
   "cell_type": "markdown",
   "metadata": {},
   "source": [
    "With such a small sample size, the normal distribution does not accurately represent the sample data. Even though  larger sample sizes of the same population can be considered to be a normal distribution, such a small amount of data does not allow the full range of variation in the data to be represented. With sample sizes of less than 30, it's definitely better to use the t-test instead of the z-test in order to account for the differences that arise with small sample sizes."
   ]
  },
  {
   "cell_type": "markdown",
   "metadata": {},
   "source": [
    "#### What do you notice? What does this tell you about the difference in application of the $t$ and $z$ statistic?"
   ]
  },
  {
   "cell_type": "markdown",
   "metadata": {},
   "source": [
    "The sample size for these tests is so small, that the variation between samples is high. THis makes it very easy to run into erroneous conclusions in eithertest. Additionally, the p-value for the t-test tends to be much higher than that for the t-test. This may lead to issues where the conclusion of the t-test is to fail to reject the null hypothesis while the z-test for the same data will conclude to reject the null hypothesis."
   ]
  },
  {
   "cell_type": "markdown",
   "metadata": {},
   "source": [
    "## Q5. At what temperature should we consider someone's temperature to be \"abnormal\"?\n",
    "We should consider a temperature to be abnormal using a commonly-used definition of an outlier, which I sourced from [Machine Learning Mastery](https://machinelearningmastery.com/how-to-use-statistics-to-identify-outliers-in-data/):\n",
    "> Three standard deviations from the mean is a common cut-off in practice for identifying outliers in a Gaussian or Gaussian-like distribution. For smaller samples of data, perhaps a value of 2 standard deviations (95%) can be used, and for larger samples, perhaps a value of 4 standard deviations (99.9%) can be used.\n",
    "\n",
    "Since we have a sample size that is not super large (>1000) and not super small (<30), let's define an outlier as a point htat more than 2 standard deviations away from the mean. Let's calculate the confience intervals using both bootstrap and frequentist approaches:"
   ]
  },
  {
   "cell_type": "markdown",
   "metadata": {},
   "source": [
    "### Bootstrap Approach"
   ]
  },
  {
   "cell_type": "code",
   "execution_count": 16,
   "metadata": {},
   "outputs": [
    {
     "name": "stdout",
     "output_type": "stream",
     "text": [
      "Confidence interval: (98.1246153846154, 98.3753846153846)\n"
     ]
    }
   ],
   "source": [
    "bs = np.empty(10000)\n",
    "for i in range(10000):\n",
    "    replicates = np.random.choice(df.temperature, size=len(df.temperature))\n",
    "    bs[i] = np.mean(replicates)\n",
    "    \n",
    "low, high = np.percentile(bs, [2.5, 97.5])\n",
    "\n",
    "print(\"Confidence interval:\", (low, high))"
   ]
  },
  {
   "cell_type": "markdown",
   "metadata": {},
   "source": [
    "### Frequentist Approach"
   ]
  },
  {
   "cell_type": "markdown",
   "metadata": {},
   "source": [
    "#### T-interval"
   ]
  },
  {
   "cell_type": "code",
   "execution_count": 17,
   "metadata": {},
   "outputs": [
    {
     "name": "stdout",
     "output_type": "stream",
     "text": [
      "Confidence interval: (98.60000000000002, 97.89846153846153)\n"
     ]
    }
   ],
   "source": [
    "sample = df.temperature\n",
    "x = np.mean(sample)\n",
    "n = len(sample)\n",
    "s = sample.std()\n",
    "\n",
    "# get z for 2 standard deviations away from mean (95% of the normal distribution)\n",
    "ttest = st.ttest_1samp(sample, mu)\n",
    "t = ttest[0]\n",
    "margin_of_error = t * (s/np.sqrt(n))\n",
    "\n",
    "low = x - margin_of_error\n",
    "high = x + margin_of_error\n",
    "\n",
    "print(\"Confidence interval:\", (low, high))"
   ]
  },
  {
   "cell_type": "markdown",
   "metadata": {},
   "source": [
    "#### Z-interval"
   ]
  },
  {
   "cell_type": "code",
   "execution_count": 18,
   "metadata": {},
   "outputs": [
    {
     "name": "stdout",
     "output_type": "stream",
     "text": [
      "Confidence interval: (98.1055663765219, 98.39289516193965)\n"
     ]
    }
   ],
   "source": [
    "sample = df.temperature\n",
    "x = np.mean(sample)\n",
    "n = len(sample)\n",
    "s = sample.std()\n",
    "\n",
    "# get z for 2 standard deviations away from mean (95% of the normal distribution)\n",
    "t = st.norm.ppf(q = 0.975)\n",
    "margin_of_error = z * (s/np.sqrt(n))\n",
    "\n",
    "low = x - margin_of_error\n",
    "high = x + margin_of_error\n",
    "\n",
    "print(\"Confidence interval:\", (low, high))"
   ]
  },
  {
   "cell_type": "markdown",
   "metadata": {},
   "source": [
    "According to the intervals calculated, we should consider someone's temperature to be abnormal when it drops below 98.1 degrees F and raises above 98.4 degrees F."
   ]
  },
  {
   "cell_type": "markdown",
   "metadata": {},
   "source": [
    "## 6. Is there a significant difference between males and females in normal temperature?\n",
    "\n",
    "For this problem, we will split our sample into two groups based on gender:"
   ]
  },
  {
   "cell_type": "code",
   "execution_count": 19,
   "metadata": {},
   "outputs": [],
   "source": [
    "male = df[df.gender == 'M'].temperature\n",
    "female = df[df.gender == 'F'].temperature"
   ]
  },
  {
   "cell_type": "code",
   "execution_count": 20,
   "metadata": {},
   "outputs": [
    {
     "data": {
      "text/plain": [
       "count    65.000000\n",
       "mean     98.104615\n",
       "std       0.698756\n",
       "min      96.300000\n",
       "25%      97.600000\n",
       "50%      98.100000\n",
       "75%      98.600000\n",
       "max      99.500000\n",
       "Name: temperature, dtype: float64"
      ]
     },
     "execution_count": 20,
     "metadata": {},
     "output_type": "execute_result"
    }
   ],
   "source": [
    "male.describe()"
   ]
  },
  {
   "cell_type": "code",
   "execution_count": 21,
   "metadata": {},
   "outputs": [
    {
     "data": {
      "text/plain": [
       "count     65.000000\n",
       "mean      98.393846\n",
       "std        0.743488\n",
       "min       96.400000\n",
       "25%       98.000000\n",
       "50%       98.400000\n",
       "75%       98.800000\n",
       "max      100.800000\n",
       "Name: temperature, dtype: float64"
      ]
     },
     "execution_count": 21,
     "metadata": {},
     "output_type": "execute_result"
    }
   ],
   "source": [
    "female.describe()"
   ]
  },
  {
   "cell_type": "markdown",
   "metadata": {},
   "source": [
    "There is equal representation of men and women in the data, and the dataset it over 30. However, a sample size of 65 is still relatively small and the population standard deviations for men and women remains unknown, making a t-distriubtion the better option for statistical testing. Because we have two sample, we will conduct a **two-sample t-test** on the data to see if the mean for men's temperatures is different than the mean for women's temperatures."
   ]
  },
  {
   "cell_type": "markdown",
   "metadata": {},
   "source": [
    "Hypotheses:\n",
    "\n",
    "If X = body temperature of the female population and  \n",
    "Y = body temperature of male population,\n",
    "\n",
    "H<sub>0</sub>: $u$<sub>X</sub> - $u$<sub>Y</sub> = 0  \n",
    "H<sub>a</sub>: $u$<sub>X</sub> - $u$<sub>Y</sub> $\\neq$ 0\n",
    "\n",
    "We will set $\\alpha$ = 0.05"
   ]
  },
  {
   "cell_type": "markdown",
   "metadata": {},
   "source": [
    "We will resample the data using **permutation** to simulate our hypothesis that X and Y have identical probability distributions. We will combine and reshuffle the data from X and Y, and then split the data back up into two new X and Y groups. This way, we are asserting that there is no difference in the distributions - no matter how much we switch up which group any data point is in, it will not change our expected difference between the two distributions."
   ]
  },
  {
   "cell_type": "code",
   "execution_count": 22,
   "metadata": {},
   "outputs": [
    {
     "name": "stdout",
     "output_type": "stream",
     "text": [
      "Mean difference in means of female and male temperature distributions: 0.289230769230727\n",
      "p-value: 0.0242\n",
      "Reject null hypothesis\n"
     ]
    }
   ],
   "source": [
    "# observed difference in sample means\n",
    "alpha = 0.05\n",
    "mu_X = np.mean(female)\n",
    "mu_Y = np.mean(male)\n",
    "obs_diff = mu_X - mu_Y\n",
    "print('Mean difference in means of female and male temperature distributions:', obs_diff)\n",
    "\n",
    "# combine the data\n",
    "both = np.concatenate((female, male))\n",
    "\n",
    "# generate replicates\n",
    "replicates = np.empty(10000)\n",
    "for i in range(len(replicates)):\n",
    "    # permute and split the data\n",
    "    permuted = np.random.permutation(both)\n",
    "    perm_1 = permuted[:len(female)]\n",
    "    perm_2 = permuted[len(female):]\n",
    "    # add to replicates array\n",
    "    replicates[i] = np.mean(perm_1) - np.mean(perm_2)\n",
    "    \n",
    "p_value = np.sum((replicates >= obs_diff) + (replicates <= -obs_diff)) / len(replicates)\n",
    "print('p-value:', float(p_value))\n",
    "if p_value < alpha:\n",
    "    print('Reject null hypothesis')\n",
    "else:\n",
    "    print('Fail to reject null hypothesis')"
   ]
  },
  {
   "cell_type": "markdown",
   "metadata": {},
   "source": [
    "Because the p-value is below our $\\alpha$, we reject the null hypothesis and support the notion that there is a difference in the mean temperature for men and women.\n",
    "\n",
    "This is insightful given the context of this problem. The mean body temperature as described from Carl Wunderlich is from 1868, a time when almost all scientific discovery was done by (or was attributed to) men. It's not unreasonable to believe that Wunderlich's test subjects were men, and that very few women were involved in his study. Today, a time when women have more involvement in science, it's been proven that [women are often colder then men](https://www.thelancet.com/journals/lancet/article/PIIS0140-6736%2805%2978875-9/fulltext) - the equal representation of men and women in this notebook's sample population can also be attributed to a change in gender representation in science. Additionally, our analysis suggests that Wunderlich's population mean of 98.6 is not the true population mean, further supporting the point that sampling methods and social change matter!"
   ]
  }
 ],
 "metadata": {
  "kernelspec": {
   "display_name": "Python 3",
   "language": "python",
   "name": "python3"
  },
  "language_info": {
   "codemirror_mode": {
    "name": "ipython",
    "version": 3
   },
   "file_extension": ".py",
   "mimetype": "text/x-python",
   "name": "python",
   "nbconvert_exporter": "python",
   "pygments_lexer": "ipython3",
   "version": "3.7.2"
  }
 },
 "nbformat": 4,
 "nbformat_minor": 1
}
